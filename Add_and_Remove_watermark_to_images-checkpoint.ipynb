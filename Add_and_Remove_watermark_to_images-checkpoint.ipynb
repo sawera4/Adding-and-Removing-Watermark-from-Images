{
 "cells": [
  {
   "cell_type": "markdown",
   "id": "c4d1f8de-65db-4285-80ab-65920d7f1f23",
   "metadata": {},
   "source": [
    "# ------------------ Adding and Removing Watermark from Images --------------"
   ]
  },
  {
   "cell_type": "markdown",
   "id": "faf7caf4-e91d-4cdd-9bf1-28ebf944fb72",
   "metadata": {},
   "source": [
    "## Group Members:-\n",
    "### Muhammad Asim Shahzad __ 2021-ag-5747\n",
    "### Muneeb ur Rehman  __ 2021-ag-5750\n",
    "### Sana Liaqat  __ 2021-ag-5781\n",
    "### Sawera Munir  __ 2021-ag-5770\n",
    "### Nadia Ahmad  __ 2021-ag-5769"
   ]
  },
  {
   "cell_type": "code",
   "execution_count": 5,
   "id": "987e9a0d-b245-4dcf-a760-071a4db364cd",
   "metadata": {},
   "outputs": [],
   "source": [
    "# Importing Libraries\n",
    "import cv2\n",
    "import numpy as np\n",
    "import glob\n",
    "import os"
   ]
  },
  {
   "cell_type": "code",
   "execution_count": 6,
   "id": "27c905c3",
   "metadata": {},
   "outputs": [
    {
     "name": "stdout",
     "output_type": "stream",
     "text": [
      "Adding watermark\n",
      "Watermark added to all the images\n"
     ]
    }
   ],
   "source": [
    "# Code for adding watermark\n",
    "\n",
    "logo = cv2.imread(\"mylogo.png\")   # Load the logo image\n",
    "\n",
    "# h_logo & w_logo is the height and width of the logo and shape is used to get the number of channels\n",
    "h_logo, w_logo, _ = logo.shape\n",
    "\n",
    "# Get all image paths using glob\n",
    "images_path = glob.glob(\"images/original_images/*.*\")\n",
    "\n",
    "print(\"Adding watermark\")\n",
    "\n",
    "# Loop through each image path\n",
    "for img_path in images_path:\n",
    "    img = cv2.imread(img_path)   # Read the current image\n",
    "    h_img, w_img, _ = img.shape\n",
    "\n",
    "    # Get the center of the original or coordinates of the image. It's the location where we will place the watermark\n",
    "    center_y = int(h_img / 2)\n",
    "    center_x = int(w_img / 2)\n",
    "    \n",
    "    # Calculate the top-left and bottom-right corner coordinates for placing the logo\n",
    "    top_y = center_y - int(h_logo / 2)\n",
    "    left_x = center_x - int(w_logo / 2)\n",
    "    bottom_y = top_y + h_logo\n",
    "    right_x = left_x + w_logo\n",
    "\n",
    "    # Get the region of interest (ROI) where the logo will be placed\n",
    "    roi = img[top_y: bottom_y, left_x: right_x]\n",
    "\n",
    "    # Apply weighted addition to combine or add the ROI and logo\n",
    "    result = cv2.addWeighted(roi, 1, logo, 0.2, 0)\n",
    "\n",
    "    # Replace the ROI in the original image with the combined result\n",
    "    img[top_y: bottom_y, left_x: right_x] = result\n",
    "\n",
    "    # Get filename and save the image\n",
    "    filename = os.path.basename(img_path)\n",
    "    \n",
    "    # Save the watermarked image to a new folder\n",
    "    cv2.imwrite(\"images/watermarked_images/watermarked_\" + filename, img)\n",
    "\n",
    "print(\"Watermark added to all the images\")"
   ]
  },
  {
   "cell_type": "code",
   "execution_count": 23,
   "id": "a0238426-427c-4111-a232-7f5819b4dcbb",
   "metadata": {},
   "outputs": [
    {
     "name": "stdout",
     "output_type": "stream",
     "text": [
      "Removing watermark\n",
      "Watermark Removed from all the images\n"
     ]
    }
   ],
   "source": [
    "# Code for removing watermark\n",
    "\n",
    "logo = cv2.imread(\"mylogo.png\")   # Load the logo image\n",
    "\n",
    "# h_logo & w_logo is the height and width of the logo and shape is used to get the number of channels\n",
    "h_logo, w_logo, _ = logo.shape\n",
    "\n",
    "# Get all image paths using glob\n",
    "images_path = glob.glob(\"images/watermarked_images/*.*\")\n",
    "\n",
    "print(\"Removing watermark\")\n",
    "\n",
    "# Loop through each image path\n",
    "for img_path in images_path:\n",
    "    img = cv2.imread(img_path)   # Read the current image\n",
    "    h_img, w_img, _ = img.shape\n",
    "\n",
    "    # Get the center of the original or coordinates of the image. It's the location where we will place the watermark\n",
    "    center_y = int(h_img / 2)\n",
    "    center_x = int(w_img / 2)\n",
    "    \n",
    "    # Calculate the top-left and bottom-right corner coordinates for placing the logo\n",
    "    top_y = center_y - int(h_logo / 2)\n",
    "    left_x = center_x - int(w_logo / 2)\n",
    "    bottom_y = top_y + h_logo\n",
    "    right_x = left_x + w_logo\n",
    "\n",
    "    # Get the region of interest (ROI) where the logo will be placed\n",
    "    roi = img[top_y: bottom_y, left_x: right_x]\n",
    "\n",
    "    # Remove the Logo to the Roi\n",
    "    result = cv2.addWeighted(roi, 1, logo, -0.2, 0)\n",
    "\n",
    "    # Replace the ROI in the original image with the combined result\n",
    "    img[top_y: bottom_y, left_x: right_x] = result\n",
    "\n",
    "    # Get filename and save the image\n",
    "    filename = os.path.basename(img_path)\n",
    "    cv2.imwrite(\"images/removed_wm_images/removed_watermarke_\" + filename, img)\n",
    "\n",
    "print(\"Watermark Removed from all the images\")"
   ]
  },
  {
   "cell_type": "code",
   "execution_count": null,
   "id": "3eb12b65",
   "metadata": {},
   "outputs": [],
   "source": []
  }
 ],
 "metadata": {
  "kernelspec": {
   "display_name": "Python 3 (ipykernel)",
   "language": "python",
   "name": "python3"
  },
  "language_info": {
   "codemirror_mode": {
    "name": "ipython",
    "version": 3
   },
   "file_extension": ".py",
   "mimetype": "text/x-python",
   "name": "python",
   "nbconvert_exporter": "python",
   "pygments_lexer": "ipython3",
   "version": "3.11.5"
  }
 },
 "nbformat": 4,
 "nbformat_minor": 5
}
